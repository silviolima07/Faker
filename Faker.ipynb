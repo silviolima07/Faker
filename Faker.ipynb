{
  "nbformat": 4,
  "nbformat_minor": 0,
  "metadata": {
    "colab": {
      "provenance": [],
      "authorship_tag": "ABX9TyN89+HyGBFz8ofYW/UqIqFp",
      "include_colab_link": true
    },
    "kernelspec": {
      "name": "python3",
      "display_name": "Python 3"
    },
    "language_info": {
      "name": "python"
    }
  },
  "cells": [
    {
      "cell_type": "markdown",
      "metadata": {
        "id": "view-in-github",
        "colab_type": "text"
      },
      "source": [
        "<a href=\"https://colab.research.google.com/github/silviolima07/Faker/blob/main/Faker.ipynb\" target=\"_parent\"><img src=\"https://colab.research.google.com/assets/colab-badge.svg\" alt=\"Open In Colab\"/></a>"
      ]
    },
    {
      "cell_type": "markdown",
      "source": [
        "# Creating Fake Data\n",
        "- See:\n",
        "https://towardsdatascience.com/how-to-create-fake-data-with-faker-a835e5b7a9d9"
      ],
      "metadata": {
        "id": "JcneT7VbmULv"
      }
    },
    {
      "cell_type": "code",
      "source": [
        "!pip install --q FAker"
      ],
      "metadata": {
        "colab": {
          "base_uri": "https://localhost:8080/"
        },
        "id": "5mn-VYgbh22U",
        "outputId": "73e734bc-7eca-426f-c5d0-fd366e5a3710"
      },
      "execution_count": 2,
      "outputs": [
        {
          "output_type": "stream",
          "name": "stdout",
          "text": [
            "\u001b[?25l     \u001b[90m━━━━━━━━━━━━━━━━━━━━━━━━━━━━━━━━━━━━━━━━\u001b[0m \u001b[32m0.0/1.7 MB\u001b[0m \u001b[31m?\u001b[0m eta \u001b[36m-:--:--\u001b[0m\r\u001b[2K     \u001b[91m━━━━━━━━━━\u001b[0m\u001b[90m╺\u001b[0m\u001b[90m━━━━━━━━━━━━━━━━━━━━━━━━━━━━━\u001b[0m \u001b[32m0.4/1.7 MB\u001b[0m \u001b[31m13.0 MB/s\u001b[0m eta \u001b[36m0:00:01\u001b[0m\r\u001b[2K     \u001b[91m━━━━━━━━━━━━━━━━━━━━━━━━━━━━━━━━━━━━━━━\u001b[0m\u001b[91m╸\u001b[0m \u001b[32m1.7/1.7 MB\u001b[0m \u001b[31m31.1 MB/s\u001b[0m eta \u001b[36m0:00:01\u001b[0m\r\u001b[2K     \u001b[90m━━━━━━━━━━━━━━━━━━━━━━━━━━━━━━━━━━━━━━━━\u001b[0m \u001b[32m1.7/1.7 MB\u001b[0m \u001b[31m23.7 MB/s\u001b[0m eta \u001b[36m0:00:00\u001b[0m\n",
            "\u001b[?25h"
          ]
        }
      ]
    },
    {
      "cell_type": "code",
      "execution_count": 4,
      "metadata": {
        "id": "ZDZlP_iEhdir"
      },
      "outputs": [],
      "source": [
        "import string\n",
        "from faker import Faker \n",
        "import json                 \n",
        "import numpy as np\n",
        "import pandas as pd\n",
        "fake = Faker() \n",
        "\n",
        "fake = Faker('pt_BR')"
      ]
    },
    {
      "cell_type": "markdown",
      "source": [
        "# Creating 10k users with Portuguese source words."
      ],
      "metadata": {
        "id": "xe6DvFYYmpCd"
      }
    },
    {
      "cell_type": "code",
      "source": [
        "fake_name=[]\n",
        "for i in range(10000):\n",
        "  #print(\"Name:\", i)\n",
        "  name = fake.name()\n",
        "  #print(name)\n",
        "  fake_name.append(name)"
      ],
      "metadata": {
        "id": "tJfaYPQTiJfC"
      },
      "execution_count": 5,
      "outputs": []
    },
    {
      "cell_type": "code",
      "source": [
        "len(fake_name)"
      ],
      "metadata": {
        "colab": {
          "base_uri": "https://localhost:8080/"
        },
        "id": "SVaCsL99KvsY",
        "outputId": "33e76e1a-b350-4ba2-9de1-c3db10d3881a"
      },
      "execution_count": 6,
      "outputs": [
        {
          "output_type": "execute_result",
          "data": {
            "text/plain": [
              "10000"
            ]
          },
          "metadata": {},
          "execution_count": 6
        }
      ]
    },
    {
      "cell_type": "markdown",
      "source": [
        "# Removing duplicate names."
      ],
      "metadata": {
        "id": "kB5V5E8enbD2"
      }
    },
    {
      "cell_type": "code",
      "source": [
        "lista_unic = set(fake_name)"
      ],
      "metadata": {
        "id": "efpSkKL2jHFk"
      },
      "execution_count": 7,
      "outputs": []
    },
    {
      "cell_type": "markdown",
      "source": [
        "# Unique created names."
      ],
      "metadata": {
        "id": "oWwASa_wnimm"
      }
    },
    {
      "cell_type": "code",
      "source": [
        "len(lista_unic)"
      ],
      "metadata": {
        "colab": {
          "base_uri": "https://localhost:8080/"
        },
        "id": "nP4TEniAjNLX",
        "outputId": "868ccf32-6ffe-4689-da47-49e321263fba"
      },
      "execution_count": 8,
      "outputs": [
        {
          "output_type": "execute_result",
          "data": {
            "text/plain": [
              "7913"
            ]
          },
          "metadata": {},
          "execution_count": 8
        }
      ]
    },
    {
      "cell_type": "code",
      "source": [
        "# Total lines created\n",
        "n = 1000\n",
        "\n",
        "infos = ['name','job', 'company','ssn', 'address', 'sex', 'birthdate']\n",
        "\n",
        "def create_profile(x): \n",
        "    print(\"Creating profile with \", n, \" lines\")\n",
        "    # dictionary \n",
        "    profile_data ={} \n",
        "    for i in range(0, x): \n",
        "        profile_data[i]={} \n",
        "        profile_data[i] = fake.profile(infos)\n",
        "\n",
        "    print(\"done\")\n",
        "    return profile_data\n",
        "    \n",
        "\n",
        "\n",
        "def create_sales(x): \n",
        "    print(\"Creating sales with \", n, \" lines\")\n",
        "  \n",
        "    # dictionary \n",
        "    sales_data ={} \n",
        "    for i in range(0, x): \n",
        "        sales_data[i]={} \n",
        "        sales_data[i]['price'] = np.random.randint(10,500)\n",
        "        sales_data[i]['qtd'] = np.random.randint(1,10)\n",
        "        sales_data[i]['product'] =  chr(np.random.randint(ord('A'), ord('Z')))\n",
        "        sales_data[i]['bill'] = sales_data[i]['price'] * sales_data[i]['qtd']\n",
        "        sales_data[i]['way_of_payment'] = np.random.choice(['boleto', 'cartão_cred', 'a vista'])\n",
        "    print(\"done\")\n",
        "    return sales_data\n",
        "\n",
        "\n",
        "# Create fake profile\n",
        "profiles = create_profile(n)\n",
        "df_prof = pd.DataFrame.from_dict(profiles)\n",
        "df_profile = df_prof.T\n",
        "\n",
        "# Create fake sales\n",
        "sales = create_sales(n)\n",
        "temp_sales = pd.DataFrame.from_dict(sales)\n",
        "df_sale = temp_sales.T\n",
        "\n",
        "df_fake = pd.concat([df_profile, df_sale], axis=1)\n",
        "\n",
        "# Extracting and creating column UF\n",
        "lista_uf=[]\n",
        "for i in range(len(df_fake['address'])):\n",
        "  lista_uf.append(df_fake['address'][i].split(' / ')[1])\n",
        "\n",
        "df_fake['uf'] = lista_uf\n",
        "df_fake.drop_duplicates(inplace=True)\n",
        "df_fake"
      ],
      "metadata": {
        "colab": {
          "base_uri": "https://localhost:8080/",
          "height": 710
        },
        "id": "-C36qW81PHTa",
        "outputId": "6741d314-9d65-423e-b394-5d93153d254c"
      },
      "execution_count": 18,
      "outputs": [
        {
          "output_type": "stream",
          "name": "stdout",
          "text": [
            "Creating profile with  1000  lines\n",
            "done\n",
            "Creating sales with  1000  lines\n",
            "done\n"
          ]
        },
        {
          "output_type": "execute_result",
          "data": {
            "text/plain": [
              "                                    job              company          ssn  \\\n",
              "0                      Artista de circo              Martins  68150327444   \n",
              "1                            Jangadeiro             Oliveira  19506784310   \n",
              "2                Classificador contábil                Alves  94081762350   \n",
              "3              Vistoriador de sinistros  Santos da Rosa S.A.  91370258640   \n",
              "4                            Cartazeiro        Carvalho - ME  19632840542   \n",
              "..                                  ...                  ...          ...   \n",
              "995              Engenheiro aeronáutico       Moura e Filhos  96712348528   \n",
              "996                          Governanta    Castro Moura - EI  01546382933   \n",
              "997  Educador integrado à saúde pública    Azevedo Costa S/A  64920735847   \n",
              "998  Tecnólogo em tecnologia da madeira            Fernandes  18463970222   \n",
              "999                   Coloproctologista               Santos  65942780374   \n",
              "\n",
              "                             name sex  \\\n",
              "0                  Miguel Cardoso   M   \n",
              "1                    Amanda Lopes   F   \n",
              "2                 Samuel Carvalho   M   \n",
              "3                   Eloah Pereira   F   \n",
              "4                   Antônio Pinto   M   \n",
              "..                            ...  ..   \n",
              "995             Augusto Fernandes   M   \n",
              "996       Sr. Luiz Miguel Almeida   M   \n",
              "997                 Calebe Fogaça   M   \n",
              "998  Dr. Gustavo Henrique Peixoto   M   \n",
              "999                   Pedro Viana   M   \n",
              "\n",
              "                                               address   birthdate price qtd  \\\n",
              "0    Via de Alves, 82\\nMirante\\n24713551 Cardoso do...  2001-05-25    31   5   \n",
              "1    Recanto de Nogueira, 85\\nVila Barragem Santa L...  1956-03-15   391   3   \n",
              "2    Sítio Pedro Henrique Fogaça, 8\\nNova Suíça\\n24...  1964-12-30    40   8   \n",
              "3    Setor Porto, 1\\nVirgínia\\n19966-772 Cunha de O...  1926-08-26   153   1   \n",
              "4    Feira Farias\\nVila Jardim Alvorada\\n84165994 M...  1986-09-20   206   4   \n",
              "..                                                 ...         ...   ...  ..   \n",
              "995  Trecho Carlos Eduardo da Mata, 86\\nVale Do Jat...  1972-02-27    28   7   \n",
              "996  Campo Carlos Eduardo Caldeira, 596\\nDom Cabral...  1918-10-20    77   2   \n",
              "997  Núcleo Pereira, 41\\nFloramar\\n16411232 Mendes ...  1979-03-02   355   1   \n",
              "998  Parque Silveira, 93\\nHeliopolis\\n55326-175 Cun...  2011-01-15   186   6   \n",
              "999  Estrada Barros, 26\\nNovo Das Industrias\\n34435...  1947-07-17   247   3   \n",
              "\n",
              "    product  bill way_of_payment  uf  \n",
              "0         B   155        a vista  SP  \n",
              "1         H  1173    cartão_cred  ES  \n",
              "2         O   320        a vista  SC  \n",
              "3         W   153        a vista  RO  \n",
              "4         I   824    cartão_cred  TO  \n",
              "..      ...   ...            ...  ..  \n",
              "995       X   196        a vista  RR  \n",
              "996       C   154        a vista  PA  \n",
              "997       X   355    cartão_cred  MA  \n",
              "998       N  1116        a vista  PB  \n",
              "999       D   741         boleto  SC  \n",
              "\n",
              "[1000 rows x 13 columns]"
            ],
            "text/html": [
              "\n",
              "  <div id=\"df-a623f977-720c-4e55-97c6-160368573c31\">\n",
              "    <div class=\"colab-df-container\">\n",
              "      <div>\n",
              "<style scoped>\n",
              "    .dataframe tbody tr th:only-of-type {\n",
              "        vertical-align: middle;\n",
              "    }\n",
              "\n",
              "    .dataframe tbody tr th {\n",
              "        vertical-align: top;\n",
              "    }\n",
              "\n",
              "    .dataframe thead th {\n",
              "        text-align: right;\n",
              "    }\n",
              "</style>\n",
              "<table border=\"1\" class=\"dataframe\">\n",
              "  <thead>\n",
              "    <tr style=\"text-align: right;\">\n",
              "      <th></th>\n",
              "      <th>job</th>\n",
              "      <th>company</th>\n",
              "      <th>ssn</th>\n",
              "      <th>name</th>\n",
              "      <th>sex</th>\n",
              "      <th>address</th>\n",
              "      <th>birthdate</th>\n",
              "      <th>price</th>\n",
              "      <th>qtd</th>\n",
              "      <th>product</th>\n",
              "      <th>bill</th>\n",
              "      <th>way_of_payment</th>\n",
              "      <th>uf</th>\n",
              "    </tr>\n",
              "  </thead>\n",
              "  <tbody>\n",
              "    <tr>\n",
              "      <th>0</th>\n",
              "      <td>Artista de circo</td>\n",
              "      <td>Martins</td>\n",
              "      <td>68150327444</td>\n",
              "      <td>Miguel Cardoso</td>\n",
              "      <td>M</td>\n",
              "      <td>Via de Alves, 82\\nMirante\\n24713551 Cardoso do...</td>\n",
              "      <td>2001-05-25</td>\n",
              "      <td>31</td>\n",
              "      <td>5</td>\n",
              "      <td>B</td>\n",
              "      <td>155</td>\n",
              "      <td>a vista</td>\n",
              "      <td>SP</td>\n",
              "    </tr>\n",
              "    <tr>\n",
              "      <th>1</th>\n",
              "      <td>Jangadeiro</td>\n",
              "      <td>Oliveira</td>\n",
              "      <td>19506784310</td>\n",
              "      <td>Amanda Lopes</td>\n",
              "      <td>F</td>\n",
              "      <td>Recanto de Nogueira, 85\\nVila Barragem Santa L...</td>\n",
              "      <td>1956-03-15</td>\n",
              "      <td>391</td>\n",
              "      <td>3</td>\n",
              "      <td>H</td>\n",
              "      <td>1173</td>\n",
              "      <td>cartão_cred</td>\n",
              "      <td>ES</td>\n",
              "    </tr>\n",
              "    <tr>\n",
              "      <th>2</th>\n",
              "      <td>Classificador contábil</td>\n",
              "      <td>Alves</td>\n",
              "      <td>94081762350</td>\n",
              "      <td>Samuel Carvalho</td>\n",
              "      <td>M</td>\n",
              "      <td>Sítio Pedro Henrique Fogaça, 8\\nNova Suíça\\n24...</td>\n",
              "      <td>1964-12-30</td>\n",
              "      <td>40</td>\n",
              "      <td>8</td>\n",
              "      <td>O</td>\n",
              "      <td>320</td>\n",
              "      <td>a vista</td>\n",
              "      <td>SC</td>\n",
              "    </tr>\n",
              "    <tr>\n",
              "      <th>3</th>\n",
              "      <td>Vistoriador de sinistros</td>\n",
              "      <td>Santos da Rosa S.A.</td>\n",
              "      <td>91370258640</td>\n",
              "      <td>Eloah Pereira</td>\n",
              "      <td>F</td>\n",
              "      <td>Setor Porto, 1\\nVirgínia\\n19966-772 Cunha de O...</td>\n",
              "      <td>1926-08-26</td>\n",
              "      <td>153</td>\n",
              "      <td>1</td>\n",
              "      <td>W</td>\n",
              "      <td>153</td>\n",
              "      <td>a vista</td>\n",
              "      <td>RO</td>\n",
              "    </tr>\n",
              "    <tr>\n",
              "      <th>4</th>\n",
              "      <td>Cartazeiro</td>\n",
              "      <td>Carvalho - ME</td>\n",
              "      <td>19632840542</td>\n",
              "      <td>Antônio Pinto</td>\n",
              "      <td>M</td>\n",
              "      <td>Feira Farias\\nVila Jardim Alvorada\\n84165994 M...</td>\n",
              "      <td>1986-09-20</td>\n",
              "      <td>206</td>\n",
              "      <td>4</td>\n",
              "      <td>I</td>\n",
              "      <td>824</td>\n",
              "      <td>cartão_cred</td>\n",
              "      <td>TO</td>\n",
              "    </tr>\n",
              "    <tr>\n",
              "      <th>...</th>\n",
              "      <td>...</td>\n",
              "      <td>...</td>\n",
              "      <td>...</td>\n",
              "      <td>...</td>\n",
              "      <td>...</td>\n",
              "      <td>...</td>\n",
              "      <td>...</td>\n",
              "      <td>...</td>\n",
              "      <td>...</td>\n",
              "      <td>...</td>\n",
              "      <td>...</td>\n",
              "      <td>...</td>\n",
              "      <td>...</td>\n",
              "    </tr>\n",
              "    <tr>\n",
              "      <th>995</th>\n",
              "      <td>Engenheiro aeronáutico</td>\n",
              "      <td>Moura e Filhos</td>\n",
              "      <td>96712348528</td>\n",
              "      <td>Augusto Fernandes</td>\n",
              "      <td>M</td>\n",
              "      <td>Trecho Carlos Eduardo da Mata, 86\\nVale Do Jat...</td>\n",
              "      <td>1972-02-27</td>\n",
              "      <td>28</td>\n",
              "      <td>7</td>\n",
              "      <td>X</td>\n",
              "      <td>196</td>\n",
              "      <td>a vista</td>\n",
              "      <td>RR</td>\n",
              "    </tr>\n",
              "    <tr>\n",
              "      <th>996</th>\n",
              "      <td>Governanta</td>\n",
              "      <td>Castro Moura - EI</td>\n",
              "      <td>01546382933</td>\n",
              "      <td>Sr. Luiz Miguel Almeida</td>\n",
              "      <td>M</td>\n",
              "      <td>Campo Carlos Eduardo Caldeira, 596\\nDom Cabral...</td>\n",
              "      <td>1918-10-20</td>\n",
              "      <td>77</td>\n",
              "      <td>2</td>\n",
              "      <td>C</td>\n",
              "      <td>154</td>\n",
              "      <td>a vista</td>\n",
              "      <td>PA</td>\n",
              "    </tr>\n",
              "    <tr>\n",
              "      <th>997</th>\n",
              "      <td>Educador integrado à saúde pública</td>\n",
              "      <td>Azevedo Costa S/A</td>\n",
              "      <td>64920735847</td>\n",
              "      <td>Calebe Fogaça</td>\n",
              "      <td>M</td>\n",
              "      <td>Núcleo Pereira, 41\\nFloramar\\n16411232 Mendes ...</td>\n",
              "      <td>1979-03-02</td>\n",
              "      <td>355</td>\n",
              "      <td>1</td>\n",
              "      <td>X</td>\n",
              "      <td>355</td>\n",
              "      <td>cartão_cred</td>\n",
              "      <td>MA</td>\n",
              "    </tr>\n",
              "    <tr>\n",
              "      <th>998</th>\n",
              "      <td>Tecnólogo em tecnologia da madeira</td>\n",
              "      <td>Fernandes</td>\n",
              "      <td>18463970222</td>\n",
              "      <td>Dr. Gustavo Henrique Peixoto</td>\n",
              "      <td>M</td>\n",
              "      <td>Parque Silveira, 93\\nHeliopolis\\n55326-175 Cun...</td>\n",
              "      <td>2011-01-15</td>\n",
              "      <td>186</td>\n",
              "      <td>6</td>\n",
              "      <td>N</td>\n",
              "      <td>1116</td>\n",
              "      <td>a vista</td>\n",
              "      <td>PB</td>\n",
              "    </tr>\n",
              "    <tr>\n",
              "      <th>999</th>\n",
              "      <td>Coloproctologista</td>\n",
              "      <td>Santos</td>\n",
              "      <td>65942780374</td>\n",
              "      <td>Pedro Viana</td>\n",
              "      <td>M</td>\n",
              "      <td>Estrada Barros, 26\\nNovo Das Industrias\\n34435...</td>\n",
              "      <td>1947-07-17</td>\n",
              "      <td>247</td>\n",
              "      <td>3</td>\n",
              "      <td>D</td>\n",
              "      <td>741</td>\n",
              "      <td>boleto</td>\n",
              "      <td>SC</td>\n",
              "    </tr>\n",
              "  </tbody>\n",
              "</table>\n",
              "<p>1000 rows × 13 columns</p>\n",
              "</div>\n",
              "      <button class=\"colab-df-convert\" onclick=\"convertToInteractive('df-a623f977-720c-4e55-97c6-160368573c31')\"\n",
              "              title=\"Convert this dataframe to an interactive table.\"\n",
              "              style=\"display:none;\">\n",
              "        \n",
              "  <svg xmlns=\"http://www.w3.org/2000/svg\" height=\"24px\"viewBox=\"0 0 24 24\"\n",
              "       width=\"24px\">\n",
              "    <path d=\"M0 0h24v24H0V0z\" fill=\"none\"/>\n",
              "    <path d=\"M18.56 5.44l.94 2.06.94-2.06 2.06-.94-2.06-.94-.94-2.06-.94 2.06-2.06.94zm-11 1L8.5 8.5l.94-2.06 2.06-.94-2.06-.94L8.5 2.5l-.94 2.06-2.06.94zm10 10l.94 2.06.94-2.06 2.06-.94-2.06-.94-.94-2.06-.94 2.06-2.06.94z\"/><path d=\"M17.41 7.96l-1.37-1.37c-.4-.4-.92-.59-1.43-.59-.52 0-1.04.2-1.43.59L10.3 9.45l-7.72 7.72c-.78.78-.78 2.05 0 2.83L4 21.41c.39.39.9.59 1.41.59.51 0 1.02-.2 1.41-.59l7.78-7.78 2.81-2.81c.8-.78.8-2.07 0-2.86zM5.41 20L4 18.59l7.72-7.72 1.47 1.35L5.41 20z\"/>\n",
              "  </svg>\n",
              "      </button>\n",
              "      \n",
              "  <style>\n",
              "    .colab-df-container {\n",
              "      display:flex;\n",
              "      flex-wrap:wrap;\n",
              "      gap: 12px;\n",
              "    }\n",
              "\n",
              "    .colab-df-convert {\n",
              "      background-color: #E8F0FE;\n",
              "      border: none;\n",
              "      border-radius: 50%;\n",
              "      cursor: pointer;\n",
              "      display: none;\n",
              "      fill: #1967D2;\n",
              "      height: 32px;\n",
              "      padding: 0 0 0 0;\n",
              "      width: 32px;\n",
              "    }\n",
              "\n",
              "    .colab-df-convert:hover {\n",
              "      background-color: #E2EBFA;\n",
              "      box-shadow: 0px 1px 2px rgba(60, 64, 67, 0.3), 0px 1px 3px 1px rgba(60, 64, 67, 0.15);\n",
              "      fill: #174EA6;\n",
              "    }\n",
              "\n",
              "    [theme=dark] .colab-df-convert {\n",
              "      background-color: #3B4455;\n",
              "      fill: #D2E3FC;\n",
              "    }\n",
              "\n",
              "    [theme=dark] .colab-df-convert:hover {\n",
              "      background-color: #434B5C;\n",
              "      box-shadow: 0px 1px 3px 1px rgba(0, 0, 0, 0.15);\n",
              "      filter: drop-shadow(0px 1px 2px rgba(0, 0, 0, 0.3));\n",
              "      fill: #FFFFFF;\n",
              "    }\n",
              "  </style>\n",
              "\n",
              "      <script>\n",
              "        const buttonEl =\n",
              "          document.querySelector('#df-a623f977-720c-4e55-97c6-160368573c31 button.colab-df-convert');\n",
              "        buttonEl.style.display =\n",
              "          google.colab.kernel.accessAllowed ? 'block' : 'none';\n",
              "\n",
              "        async function convertToInteractive(key) {\n",
              "          const element = document.querySelector('#df-a623f977-720c-4e55-97c6-160368573c31');\n",
              "          const dataTable =\n",
              "            await google.colab.kernel.invokeFunction('convertToInteractive',\n",
              "                                                     [key], {});\n",
              "          if (!dataTable) return;\n",
              "\n",
              "          const docLinkHtml = 'Like what you see? Visit the ' +\n",
              "            '<a target=\"_blank\" href=https://colab.research.google.com/notebooks/data_table.ipynb>data table notebook</a>'\n",
              "            + ' to learn more about interactive tables.';\n",
              "          element.innerHTML = '';\n",
              "          dataTable['output_type'] = 'display_data';\n",
              "          await google.colab.output.renderOutput(dataTable, element);\n",
              "          const docLink = document.createElement('div');\n",
              "          docLink.innerHTML = docLinkHtml;\n",
              "          element.appendChild(docLink);\n",
              "        }\n",
              "      </script>\n",
              "    </div>\n",
              "  </div>\n",
              "  "
            ]
          },
          "metadata": {},
          "execution_count": 18
        }
      ]
    }
  ]
}